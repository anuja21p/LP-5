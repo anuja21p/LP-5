{
  "nbformat": 4,
  "nbformat_minor": 0,
  "metadata": {
    "colab": {
      "provenance": []
    },
    "kernelspec": {
      "name": "python3",
      "display_name": "Python 3"
    },
    "language_info": {
      "name": "python"
    }
  },
  "cells": [
    {
      "cell_type": "code",
      "execution_count": 21,
      "metadata": {
        "colab": {
          "base_uri": "https://localhost:8080/"
        },
        "id": "Yu-SKH1oprnM",
        "outputId": "8676f7ea-7c6e-4ecb-ad29-5bee119574dd"
      },
      "outputs": [
        {
          "output_type": "stream",
          "name": "stdout",
          "text": [
            "Data         : [8, 9, 5, 1, 9, 1]\n",
            "Parallel Sum : 33\n",
            "Parallel Min : 1\n",
            "Parallel Max : 9\n",
            "Parallel Avg : 5.50\n"
          ]
        }
      ],
      "source": [
        "import random\n",
        "import numpy as np\n",
        "from joblib import Parallel, delayed\n",
        "import multiprocessing\n",
        "\n",
        "#random.seed(0)  # Ensures the same random numbers are generated every time\n",
        "\n",
        "# Generate a large random array\n",
        "data = [random.randint(1, 10) for _ in range(6)]\n",
        "\n",
        "# Number of cores\n",
        "num_cores = multiprocessing.cpu_count()\n",
        "\n",
        "# Split data into chunks\n",
        "def split_chunks(arr, n):\n",
        "    chunk_size = len(arr) // n\n",
        "    return [arr[i*chunk_size:(i+1)*chunk_size] for i in range(n)]\n",
        "\n",
        "chunks = split_chunks(data, num_cores)\n",
        "\n",
        "# Parallel sum\n",
        "partial_sums = Parallel(n_jobs=num_cores)(delayed(sum)(chunk) for chunk in chunks)\n",
        "total_sum = sum(partial_sums)\n",
        "\n",
        "# Parallel min\n",
        "partial_mins = Parallel(n_jobs=num_cores)(delayed(min)(chunk) for chunk in chunks if chunk)\n",
        "global_min = min(partial_mins)\n",
        "\n",
        "# Parallel max\n",
        "partial_maxs = Parallel(n_jobs=num_cores)(delayed(max)(chunk) for chunk in chunks if chunk)\n",
        "global_max = max(partial_maxs)\n",
        "\n",
        "# Average\n",
        "average = total_sum / len(data)\n",
        "\n",
        "# Results\n",
        "print(f\"Data         : {data}\")\n",
        "print(f\"Parallel Sum : {total_sum}\")\n",
        "print(f\"Parallel Min : {global_min}\")\n",
        "print(f\"Parallel Max : {global_max}\")\n",
        "print(f\"Parallel Avg : {average:.2f}\")\n"
      ]
    }
  ]
}