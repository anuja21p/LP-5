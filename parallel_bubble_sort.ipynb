{
  "cells": [
    {
      "cell_type": "markdown",
      "id": "fbe9d4bb",
      "metadata": {
        "id": "fbe9d4bb"
      },
      "source": [
        "# Parallel BFS and DFS using OpenMP (C++)\n",
        "This notebook contains the C++ code for Parallel BFS and DFS using OpenMP for CPU parallelization."
      ]
    },
    {
      "cell_type": "code",
      "execution_count": 11,
      "id": "e23a9766",
      "metadata": {
        "colab": {
          "base_uri": "https://localhost:8080/"
        },
        "id": "e23a9766",
        "outputId": "d390548a-3dcc-4ccb-f8f2-ee1847cac089"
      },
      "outputs": [
        {
          "output_type": "stream",
          "name": "stdout",
          "text": [
            "Reading package lists... Done\n",
            "Building dependency tree... Done\n",
            "Reading state information... Done\n",
            "g++ is already the newest version (4:11.2.0-1ubuntu1).\n",
            "g++ set to manually installed.\n",
            "0 upgraded, 0 newly installed, 0 to remove and 34 not upgraded.\n",
            "✅ C++ code written to parallel_bubble_sort.cpp\n"
          ]
        }
      ],
      "source": [
        "# Step 1: Install GCC with OpenMP support (if not installed)\n",
        "!apt-get install g++\n",
        "\n",
        "# Step 2: Write the C++ code to a file\n",
        "code = \"\"\"\n",
        "#include<iostream>\n",
        "#include<omp.h>\n",
        "\n",
        "using namespace std;\n",
        "\n",
        "void bubble(int array[], int n){\n",
        "    for (int i = 0; i < n - 1; i++){\n",
        "        for (int j = 0; j < n - i - 1; j++){\n",
        "            if (array[j] > array[j + 1]) swap(array[j], array[j + 1]);\n",
        "        }\n",
        "    }\n",
        "}\n",
        "\n",
        "void pBubble(int array[], int n){\n",
        "    for(int i = 0; i < n; ++i){\n",
        "        #pragma omp parallel for\n",
        "        for (int j = 1; j < n; j += 2){\n",
        "            if (array[j] < array[j-1])\n",
        "                swap(array[j], array[j - 1]);\n",
        "        }\n",
        "\n",
        "        #pragma omp barrier\n",
        "\n",
        "        #pragma omp parallel for\n",
        "        for (int j = 2; j < n; j += 2){\n",
        "            if (array[j] < array[j-1])\n",
        "                swap(array[j], array[j - 1]);\n",
        "        }\n",
        "    }\n",
        "}\n",
        "\n",
        "void printArray(int arr[], int n){\n",
        "    for(int i = 0; i < n; i++) cout << arr[i] << \" \";\n",
        "    cout << \"\\\\n\";\n",
        "}\n",
        "\n",
        "int main(){\n",
        "    int n = 10;\n",
        "    int arr[n];\n",
        "    double start_time, end_time;\n",
        "\n",
        "    for(int i = 0, j = n; i < n; i++, j--) arr[i] = j;\n",
        "\n",
        "    start_time = omp_get_wtime();\n",
        "    bubble(arr, n);\n",
        "    end_time = omp_get_wtime();\n",
        "    cout << \"Sequential Bubble Sort took : \" << end_time - start_time << \" seconds.\\\\n\";\n",
        "    printArray(arr, n);\n",
        "\n",
        "    for(int i = 0, j = n; i < n; i++, j--) arr[i] = j;\n",
        "\n",
        "    start_time = omp_get_wtime();\n",
        "    pBubble(arr, n);\n",
        "    end_time = omp_get_wtime();\n",
        "    cout << \"Parallel Bubble Sort took : \" << end_time - start_time << \" seconds.\\\\n\";\n",
        "    printArray(arr, n);\n",
        "}\n",
        "\"\"\"\n",
        "\n",
        "with open(\"parallel_bubble_sort.cpp\", \"w\") as file:\n",
        "    file.write(code)\n",
        "\n",
        "print(\"✅ C++ code written to parallel_bubble_sort.cpp\")\n"
      ]
    },
    {
      "cell_type": "markdown",
      "id": "914b6e2f",
      "metadata": {
        "id": "914b6e2f"
      },
      "source": [
        "## How to Compile and Run\n",
        "To compile and run this C++ code with OpenMP support, use the following commands:"
      ]
    },
    {
      "cell_type": "code",
      "execution_count": 12,
      "id": "f7046414",
      "metadata": {
        "colab": {
          "base_uri": "https://localhost:8080/"
        },
        "id": "f7046414",
        "outputId": "06c390b9-8c99-45c6-cfd4-7238a2699614"
      },
      "outputs": [
        {
          "output_type": "stream",
          "name": "stdout",
          "text": [
            "Sequential Bubble Sort took : 8.631e-06 seconds.\n",
            "1 2 3 4 5 6 7 8 9 10 \n",
            "Parallel Bubble Sort took : 0.00159675 seconds.\n",
            "1 2 3 4 5 6 7 8 9 10 \n"
          ]
        }
      ],
      "source": [
        "!g++ -fopenmp parallel_bubble_sort.cpp -o parallel_bubble_sort\n",
        "!./parallel_bubble_sort"
      ]
    },
    {
      "cell_type": "code",
      "source": [],
      "metadata": {
        "id": "XRXpeo9Eao3-"
      },
      "id": "XRXpeo9Eao3-",
      "execution_count": null,
      "outputs": []
    }
  ],
  "metadata": {
    "colab": {
      "provenance": []
    },
    "language_info": {
      "name": "python"
    },
    "kernelspec": {
      "name": "python3",
      "display_name": "Python 3"
    }
  },
  "nbformat": 4,
  "nbformat_minor": 5
}