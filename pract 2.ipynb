{
 "cells": [
  {
   "cell_type": "markdown",
   "metadata": {
    "id": "Nba24ax4YvXw"
   },
   "source": [
    "Name: Anuja Pachwadkar\n",
    "\n",
    "Roll No : BBCO21159\n",
    "\n",
    "\n",
    "\n",
    "Assignment 2\n",
    "\n",
    "Classification using Deep neural network (Any One from the following)\n",
    "1. Multiclass classification using Deep Neural Networks: Example: Use the OCR letter recognition dataset https://archive.ics.uci.edu/ml/datasets/letter+recognition\n",
    "2. Binary classification using Deep Neural Networks Example: Classify movie reviews into positive\" reviews and \"negative\" reviews, just based on the text content of the reviews. Use IMDB dataset.\n",
    "\n",
    "\n",
    "\n"
   ]
  },
  {
   "cell_type": "code",
   "execution_count": null,
   "metadata": {
    "colab": {
     "base_uri": "https://localhost:8080/"
    },
    "executionInfo": {
     "elapsed": 21824,
     "status": "ok",
     "timestamp": 1742487881574,
     "user": {
      "displayName": "Anil Rathod",
      "userId": "11879838791631308534"
     },
     "user_tz": -330
    },
    "id": "IzmXCDNtVqEV",
    "outputId": "19799bf8-1240-410d-a95f-e5e59cd5323d"
   },
   "outputs": [
    {
     "name": "stdout",
     "output_type": "stream",
     "text": [
      "Downloading data from https://storage.googleapis.com/tensorflow/tf-keras-datasets/imdb.npz\n",
      "\u001b[1m17464789/17464789\u001b[0m \u001b[32m━━━━━━━━━━━━━━━━━━━━\u001b[0m\u001b[37m\u001b[0m \u001b[1m1s\u001b[0m 0us/step\n"
     ]
    }
   ],
   "source": [
    "from keras.datasets import imdb\n",
    "\n",
    "# Load the data, keeping only the 10,000 most frequently occurring words\n",
    "(train_data, train_labels), (test_data, test_labels) = imdb.load_data(num_words=10000)\n"
   ]
  },
  {
   "cell_type": "code",
   "execution_count": null,
   "metadata": {
    "colab": {
     "base_uri": "https://localhost:8080/"
    },
    "executionInfo": {
     "elapsed": 395,
     "status": "ok",
     "timestamp": 1742487881984,
     "user": {
      "displayName": "Anil Rathod",
      "userId": "11879838791631308534"
     },
     "user_tz": -330
    },
    "id": "ZmLwT325XJ7Z",
    "outputId": "805f15dd-422e-407d-f20a-ab15aab5c7fc"
   },
   "outputs": [
    {
     "name": "stdout",
     "output_type": "stream",
     "text": [
      "Max word index: 9999\n"
     ]
    }
   ],
   "source": [
    "# Find the maximum word index in each review\n",
    "max_indexes = [max(sequence) for sequence in train_data]\n",
    "\n",
    "# Find the highest index among all reviews\n",
    "max_index = max(max_indexes)\n",
    "print(\"Max word index:\", max_index)\n"
   ]
  },
  {
   "cell_type": "code",
   "execution_count": null,
   "metadata": {
    "colab": {
     "base_uri": "https://localhost:8080/"
    },
    "executionInfo": {
     "elapsed": 3891,
     "status": "ok",
     "timestamp": 1742488088104,
     "user": {
      "displayName": "Anil Rathod",
      "userId": "11879838791631308534"
     },
     "user_tz": -330
    },
    "id": "5cbqvl9mXPJF",
    "outputId": "1724d4ce-14d3-4560-9c3b-05de46ef176f"
   },
   "outputs": [
    {
     "name": "stdout",
     "output_type": "stream",
     "text": [
      "Decoded Review:\n",
      "\n",
      "? this film was just brilliant casting location scenery story direction\n",
      "everyone's really suited the part they played and you could just imagine being\n",
      "there robert ? is an amazing actor and now the same being director ? father came\n",
      "from the same scottish island as myself so i loved the fact there was a real\n",
      "connection with this film the witty remarks throughout the film were great it\n",
      "was just brilliant so much that i bought the film as soon as it was released for\n",
      "? and would recommend it to everyone to watch and the fly fishing was amazing\n",
      "really cried at the end it was so sad and you know what they say if you cry at a\n",
      "film it must have been good and this definitely was also ? to the two little\n",
      "boy's that played the ? of norman and paul they were just brilliant children are\n",
      "often left out of the ? list i think because the stars that play them all grown\n",
      "up are such a big profile for the whole film but these children are amazing and\n",
      "should be praised for what they have done don't you think the whole story was so\n",
      "lovely because it was true and was someone's life after all that was shared with\n",
      "us all\n"
     ]
    }
   ],
   "source": [
    "import textwrap\n",
    "from keras.datasets import imdb\n",
    "\n",
    "# Load dataset\n",
    "(train_data, train_labels), (test_data, test_labels) = imdb.load_data(num_words=10000)\n",
    "\n",
    "# Load the word index\n",
    "word_index = imdb.get_word_index()\n",
    "\n",
    "# Reverse word index to map integers to words\n",
    "reverse_word_index = {value: key for (key, value) in word_index.items()}\n",
    "\n",
    "# Decode the first review\n",
    "decoded_review = ' '.join([reverse_word_index.get(i - 3, '?') for i in train_data[0]])\n",
    "\n",
    "# Format and print the decoded review\n",
    "print(\"Decoded Review:\\n\")\n",
    "print(textwrap.fill(decoded_review, width=80))  # Wrap text for better readability\n"
   ]
  },
  {
   "cell_type": "code",
   "execution_count": null,
   "metadata": {
    "colab": {
     "base_uri": "https://localhost:8080/"
    },
    "executionInfo": {
     "elapsed": 3364,
     "status": "ok",
     "timestamp": 1742488097511,
     "user": {
      "displayName": "Anil Rathod",
      "userId": "11879838791631308534"
     },
     "user_tz": -330
    },
    "id": "6jy5uyV5XQG5",
    "outputId": "c1033eb3-a1bb-4333-b4f4-4266362185dd"
   },
   "outputs": [
    {
     "name": "stdout",
     "output_type": "stream",
     "text": [
      "X_train shape: (25000, 10000)\n"
     ]
    }
   ],
   "source": [
    "import numpy as np\n",
    "\n",
    "# Function to vectorize sequences\n",
    "def vectorize_sequences(sequences, dimension=10000):\n",
    "    results = np.zeros((len(sequences), dimension))\n",
    "    for i, sequence in enumerate(sequences):\n",
    "        results[i, sequence] = 1  # Set specific indices to 1\n",
    "    return results\n",
    "\n",
    "# Vectorize training and testing data\n",
    "X_train = vectorize_sequences(train_data)\n",
    "X_test = vectorize_sequences(test_data)\n",
    "\n",
    "# Convert labels to float32\n",
    "y_train = np.asarray(train_labels).astype('float32')\n",
    "y_test = np.asarray(test_labels).astype('float32')\n",
    "\n",
    "# Check shape of X_train\n",
    "print(\"X_train shape:\", X_train.shape)\n"
   ]
  },
  {
   "cell_type": "code",
   "execution_count": null,
   "metadata": {
    "colab": {
     "base_uri": "https://localhost:8080/"
    },
    "executionInfo": {
     "elapsed": 32,
     "status": "ok",
     "timestamp": 1742487889790,
     "user": {
      "displayName": "Anil Rathod",
      "userId": "11879838791631308534"
     },
     "user_tz": -330
    },
    "id": "57Ap4o10XUN3",
    "outputId": "1ca58ce9-d885-4745-8c8e-fde699db2470"
   },
   "outputs": [
    {
     "name": "stderr",
     "output_type": "stream",
     "text": [
      "/usr/local/lib/python3.11/dist-packages/keras/src/layers/core/dense.py:87: UserWarning: Do not pass an `input_shape`/`input_dim` argument to a layer. When using Sequential models, prefer using an `Input(shape)` object as the first layer in the model instead.\n",
      "  super().__init__(activity_regularizer=activity_regularizer, **kwargs)\n"
     ]
    }
   ],
   "source": [
    "from keras import models, layers, optimizers, losses\n",
    "\n",
    "# Define the model\n",
    "model = models.Sequential([\n",
    "    layers.Dense(16, activation='relu', input_shape=(10000,)),\n",
    "    layers.Dense(16, activation='relu'),\n",
    "    layers.Dense(1, activation='sigmoid')\n",
    "])\n",
    "\n",
    "# Compile the model\n",
    "model.compile(\n",
    "    optimizer=optimizers.RMSprop(learning_rate=0.001),\n",
    "    loss=losses.binary_crossentropy,\n",
    "    metrics=['accuracy']\n",
    ")\n"
   ]
  },
  {
   "cell_type": "code",
   "execution_count": null,
   "metadata": {
    "id": "KGXYJ-0QXWZt"
   },
   "outputs": [],
   "source": [
    "# Create validation set\n",
    "X_val = X_train[:10000]\n",
    "partial_X_train = X_train[10000:]\n",
    "\n",
    "# Create validation labels\n",
    "y_val = y_train[:10000]\n",
    "partial_y_train = y_train[10000:]\n"
   ]
  },
  {
   "cell_type": "code",
   "execution_count": null,
   "metadata": {
    "colab": {
     "base_uri": "https://localhost:8080/"
    },
    "executionInfo": {
     "elapsed": 29032,
     "status": "ok",
     "timestamp": 1742487918854,
     "user": {
      "displayName": "Anil Rathod",
      "userId": "11879838791631308534"
     },
     "user_tz": -330
    },
    "id": "CPD24BBSXYlX",
    "outputId": "031372f3-c7f8-4276-cad4-64f5ed23e2e5"
   },
   "outputs": [
    {
     "name": "stdout",
     "output_type": "stream",
     "text": [
      "Epoch 1/20\n",
      "\u001b[1m30/30\u001b[0m \u001b[32m━━━━━━━━━━━━━━━━━━━━\u001b[0m\u001b[37m\u001b[0m \u001b[1m3s\u001b[0m 65ms/step - accuracy: 0.6899 - loss: 0.6076 - val_accuracy: 0.8619 - val_loss: 0.4104\n",
      "Epoch 2/20\n",
      "\u001b[1m30/30\u001b[0m \u001b[32m━━━━━━━━━━━━━━━━━━━━\u001b[0m\u001b[37m\u001b[0m \u001b[1m2s\u001b[0m 62ms/step - accuracy: 0.8893 - loss: 0.3561 - val_accuracy: 0.8678 - val_loss: 0.3376\n",
      "Epoch 3/20\n",
      "\u001b[1m30/30\u001b[0m \u001b[32m━━━━━━━━━━━━━━━━━━━━\u001b[0m\u001b[37m\u001b[0m \u001b[1m1s\u001b[0m 43ms/step - accuracy: 0.9114 - loss: 0.2642 - val_accuracy: 0.8839 - val_loss: 0.2941\n",
      "Epoch 4/20\n",
      "\u001b[1m30/30\u001b[0m \u001b[32m━━━━━━━━━━━━━━━━━━━━\u001b[0m\u001b[37m\u001b[0m \u001b[1m1s\u001b[0m 34ms/step - accuracy: 0.9352 - loss: 0.2048 - val_accuracy: 0.8893 - val_loss: 0.2763\n",
      "Epoch 5/20\n",
      "\u001b[1m30/30\u001b[0m \u001b[32m━━━━━━━━━━━━━━━━━━━━\u001b[0m\u001b[37m\u001b[0m \u001b[1m1s\u001b[0m 34ms/step - accuracy: 0.9426 - loss: 0.1745 - val_accuracy: 0.8877 - val_loss: 0.2760\n",
      "Epoch 6/20\n",
      "\u001b[1m30/30\u001b[0m \u001b[32m━━━━━━━━━━━━━━━━━━━━\u001b[0m\u001b[37m\u001b[0m \u001b[1m1s\u001b[0m 36ms/step - accuracy: 0.9567 - loss: 0.1429 - val_accuracy: 0.8822 - val_loss: 0.2891\n",
      "Epoch 7/20\n",
      "\u001b[1m30/30\u001b[0m \u001b[32m━━━━━━━━━━━━━━━━━━━━\u001b[0m\u001b[37m\u001b[0m \u001b[1m1s\u001b[0m 36ms/step - accuracy: 0.9586 - loss: 0.1278 - val_accuracy: 0.8837 - val_loss: 0.2937\n",
      "Epoch 8/20\n",
      "\u001b[1m30/30\u001b[0m \u001b[32m━━━━━━━━━━━━━━━━━━━━\u001b[0m\u001b[37m\u001b[0m \u001b[1m1s\u001b[0m 35ms/step - accuracy: 0.9677 - loss: 0.1115 - val_accuracy: 0.8718 - val_loss: 0.3415\n",
      "Epoch 9/20\n",
      "\u001b[1m30/30\u001b[0m \u001b[32m━━━━━━━━━━━━━━━━━━━━\u001b[0m\u001b[37m\u001b[0m \u001b[1m1s\u001b[0m 34ms/step - accuracy: 0.9700 - loss: 0.0978 - val_accuracy: 0.8735 - val_loss: 0.3463\n",
      "Epoch 10/20\n",
      "\u001b[1m30/30\u001b[0m \u001b[32m━━━━━━━━━━━━━━━━━━━━\u001b[0m\u001b[37m\u001b[0m \u001b[1m1s\u001b[0m 30ms/step - accuracy: 0.9770 - loss: 0.0792 - val_accuracy: 0.8720 - val_loss: 0.3835\n",
      "Epoch 11/20\n",
      "\u001b[1m30/30\u001b[0m \u001b[32m━━━━━━━━━━━━━━━━━━━━\u001b[0m\u001b[37m\u001b[0m \u001b[1m1s\u001b[0m 33ms/step - accuracy: 0.9795 - loss: 0.0716 - val_accuracy: 0.8829 - val_loss: 0.3596\n",
      "Epoch 12/20\n",
      "\u001b[1m30/30\u001b[0m \u001b[32m━━━━━━━━━━━━━━━━━━━━\u001b[0m\u001b[37m\u001b[0m \u001b[1m2s\u001b[0m 56ms/step - accuracy: 0.9888 - loss: 0.0552 - val_accuracy: 0.8786 - val_loss: 0.3714\n",
      "Epoch 13/20\n",
      "\u001b[1m30/30\u001b[0m \u001b[32m━━━━━━━━━━━━━━━━━━━━\u001b[0m\u001b[37m\u001b[0m \u001b[1m2s\u001b[0m 35ms/step - accuracy: 0.9880 - loss: 0.0505 - val_accuracy: 0.8783 - val_loss: 0.3938\n",
      "Epoch 14/20\n",
      "\u001b[1m30/30\u001b[0m \u001b[32m━━━━━━━━━━━━━━━━━━━━\u001b[0m\u001b[37m\u001b[0m \u001b[1m1s\u001b[0m 34ms/step - accuracy: 0.9921 - loss: 0.0413 - val_accuracy: 0.8668 - val_loss: 0.4399\n",
      "Epoch 15/20\n",
      "\u001b[1m30/30\u001b[0m \u001b[32m━━━━━━━━━━━━━━━━━━━━\u001b[0m\u001b[37m\u001b[0m \u001b[1m1s\u001b[0m 34ms/step - accuracy: 0.9945 - loss: 0.0357 - val_accuracy: 0.8765 - val_loss: 0.4399\n",
      "Epoch 16/20\n",
      "\u001b[1m30/30\u001b[0m \u001b[32m━━━━━━━━━━━━━━━━━━━━\u001b[0m\u001b[37m\u001b[0m \u001b[1m1s\u001b[0m 33ms/step - accuracy: 0.9966 - loss: 0.0262 - val_accuracy: 0.8605 - val_loss: 0.5620\n",
      "Epoch 17/20\n",
      "\u001b[1m30/30\u001b[0m \u001b[32m━━━━━━━━━━━━━━━━━━━━\u001b[0m\u001b[37m\u001b[0m \u001b[1m1s\u001b[0m 33ms/step - accuracy: 0.9943 - loss: 0.0301 - val_accuracy: 0.8744 - val_loss: 0.4842\n",
      "Epoch 18/20\n",
      "\u001b[1m30/30\u001b[0m \u001b[32m━━━━━━━━━━━━━━━━━━━━\u001b[0m\u001b[37m\u001b[0m \u001b[1m1s\u001b[0m 34ms/step - accuracy: 0.9943 - loss: 0.0259 - val_accuracy: 0.8727 - val_loss: 0.5200\n",
      "Epoch 19/20\n",
      "\u001b[1m30/30\u001b[0m \u001b[32m━━━━━━━━━━━━━━━━━━━━\u001b[0m\u001b[37m\u001b[0m \u001b[1m1s\u001b[0m 32ms/step - accuracy: 0.9973 - loss: 0.0184 - val_accuracy: 0.8728 - val_loss: 0.5287\n",
      "Epoch 20/20\n",
      "\u001b[1m30/30\u001b[0m \u001b[32m━━━━━━━━━━━━━━━━━━━━\u001b[0m\u001b[37m\u001b[0m \u001b[1m1s\u001b[0m 34ms/step - accuracy: 0.9987 - loss: 0.0142 - val_accuracy: 0.8702 - val_loss: 0.5564\n"
     ]
    }
   ],
   "source": [
    "# Train the model\n",
    "history = model.fit(\n",
    "    partial_X_train, partial_y_train,\n",
    "    epochs=20, batch_size=512,\n",
    "    validation_data=(X_val, y_val)\n",
    ")\n"
   ]
  },
  {
   "cell_type": "code",
   "execution_count": null,
   "metadata": {
    "colab": {
     "base_uri": "https://localhost:8080/",
     "height": 472
    },
    "executionInfo": {
     "elapsed": 745,
     "status": "ok",
     "timestamp": 1742487919602,
     "user": {
      "displayName": "Anil Rathod",
      "userId": "11879838791631308534"
     },
     "user_tz": -330
    },
    "id": "bBNI_P4oXakq",
    "outputId": "62d74597-b1d4-4fc4-8a30-c732b8adf701"
   },
   "outputs": [
    {
     "data": {
      "image/png": "[encoded data removed]",
      "text/plain": [
       "<Figure size 640x480 with 1 Axes>"
      ]
     },
     "metadata": {},
     "output_type": "display_data"
    }
   ],
   "source": [
    "import matplotlib.pyplot as plt\n",
    "\n",
    "history_dict = history.history\n",
    "\n",
    "# Extract loss values\n",
    "loss_values = history_dict['loss']\n",
    "val_loss_values = history_dict['val_loss']\n",
    "\n",
    "# Plot losses\n",
    "epochs = range(1, len(loss_values) + 1)\n",
    "plt.plot(epochs, loss_values, 'bo', label=\"Training Loss\")\n",
    "plt.plot(epochs, val_loss_values, 'b', label=\"Validation Loss\")\n",
    "plt.title('Training and Validation Loss')\n",
    "plt.xlabel('Epochs')\n",
    "plt.ylabel('Loss Value')\n",
    "plt.legend()\n",
    "plt.show()\n"
   ]
  },
  {
   "cell_type": "code",
   "execution_count": null,
   "metadata": {
    "colab": {
     "base_uri": "https://localhost:8080/",
     "height": 472
    },
    "executionInfo": {
     "elapsed": 299,
     "status": "ok",
     "timestamp": 1742487919906,
     "user": {
      "displayName": "Anil Rathod",
      "userId": "11879838791631308534"
     },
     "user_tz": -330
    },
    "id": "02Qc7uzFXdIg",
    "outputId": "37b7ba85-019a-4929-ba4f-86d33955237d"
   },
   "outputs": [
    {
     "data": {
      "image/png": "[encoded data removed]",
      "text/plain": [
       "<Figure size 640x480 with 1 Axes>"
      ]
     },
     "metadata": {},
     "output_type": "display_data"
    }
   ],
   "source": [
    "# Extract accuracy values\n",
    "acc_values = history_dict['accuracy']\n",
    "val_acc_values = history_dict['val_accuracy']\n",
    "\n",
    "# Plot accuracy\n",
    "plt.plot(epochs, acc_values, 'ro', label=\"Training Accuracy\")\n",
    "plt.plot(epochs, val_acc_values, 'r', label=\"Validation Accuracy\")\n",
    "plt.title('Training and Validation Accuracy')\n",
    "plt.xlabel('Epochs')\n",
    "plt.ylabel('Accuracy')\n",
    "plt.legend()\n",
    "plt.show()\n"
   ]
  },
  {
   "cell_type": "code",
   "execution_count": null,
   "metadata": {
    "colab": {
     "base_uri": "https://localhost:8080/"
    },
    "executionInfo": {
     "elapsed": 5290,
     "status": "ok",
     "timestamp": 1742487925200,
     "user": {
      "displayName": "Anil Rathod",
      "userId": "11879838791631308534"
     },
     "user_tz": -330
    },
    "id": "Qz5KfDQOXfBc",
    "outputId": "92e192f1-ea6f-4f47-bf84-c6b7f928690e"
   },
   "outputs": [
    {
     "name": "stdout",
     "output_type": "stream",
     "text": [
      "Epoch 1/3\n",
      "\u001b[1m30/30\u001b[0m \u001b[32m━━━━━━━━━━━━━━━━━━━━\u001b[0m\u001b[37m\u001b[0m \u001b[1m2s\u001b[0m 71ms/step - accuracy: 0.9987 - loss: 0.0123 - val_accuracy: 0.8693 - val_loss: 0.5793\n",
      "Epoch 2/3\n",
      "\u001b[1m30/30\u001b[0m \u001b[32m━━━━━━━━━━━━━━━━━━━━\u001b[0m\u001b[37m\u001b[0m \u001b[1m1s\u001b[0m 35ms/step - accuracy: 0.9984 - loss: 0.0110 - val_accuracy: 0.8697 - val_loss: 0.5948\n",
      "Epoch 3/3\n",
      "\u001b[1m30/30\u001b[0m \u001b[32m━━━━━━━━━━━━━━━━━━━━\u001b[0m\u001b[37m\u001b[0m \u001b[1m1s\u001b[0m 32ms/step - accuracy: 0.9998 - loss: 0.0070 - val_accuracy: 0.8703 - val_loss: 0.6182\n"
     ]
    },
    {
     "data": {
      "text/plain": [
       "<keras.src.callbacks.history.History at 0x7d31bb0a9b50>"
      ]
     },
     "execution_count": 10,
     "metadata": {},
     "output_type": "execute_result"
    }
   ],
   "source": [
    "model.fit(\n",
    "    partial_X_train, partial_y_train,\n",
    "    epochs=3, batch_size=512,\n",
    "    validation_data=(X_val, y_val)\n",
    ")\n"
   ]
  },
  {
   "cell_type": "code",
   "execution_count": null,
   "metadata": {
    "colab": {
     "base_uri": "https://localhost:8080/"
    },
    "executionInfo": {
     "elapsed": 4284,
     "status": "ok",
     "timestamp": 1742487929490,
     "user": {
      "displayName": "Anil Rathod",
      "userId": "11879838791631308534"
     },
     "user_tz": -330
    },
    "id": "AgY3OsIHXhGz",
    "outputId": "47cc343e-dee4-4a33-e9ac-d950748184bd"
   },
   "outputs": [
    {
     "name": "stdout",
     "output_type": "stream",
     "text": [
      "\u001b[1m782/782\u001b[0m \u001b[32m━━━━━━━━━━━━━━━━━━━━\u001b[0m\u001b[37m\u001b[0m \u001b[1m1s\u001b[0m 2ms/step\n"
     ]
    }
   ],
   "source": [
    "np.set_printoptions(suppress=True)  # Suppress scientific notation\n",
    "result = model.predict(X_test)\n"
   ]
  },
  {
   "cell_type": "code",
   "execution_count": null,
   "metadata": {
    "id": "lzBIFWnsXiug"
   },
   "outputs": [],
   "source": [
    "# Convert probabilities to 0 or 1\n",
    "y_pred = np.zeros(len(result))\n",
    "for i, score in enumerate(result):\n",
    "    y_pred[i] = 1 if score > 0.5 else 0\n"
   ]
  },
  {
   "cell_type": "code",
   "execution_count": null,
   "metadata": {
    "colab": {
     "base_uri": "https://localhost:8080/"
    },
    "executionInfo": {
     "elapsed": 261,
     "status": "ok",
     "timestamp": 1742487929844,
     "user": {
      "displayName": "Anil Rathod",
      "userId": "11879838791631308534"
     },
     "user_tz": -330
    },
    "id": "VIzrzlKVXkl3",
    "outputId": "15b45941-422b-4273-a580-d68a060decdf"
   },
   "outputs": [
    {
     "name": "stdout",
     "output_type": "stream",
     "text": [
      "Mean Absolute Error: 0.14232\n"
     ]
    }
   ],
   "source": [
    "from sklearn.metrics import mean_absolute_error\n",
    "\n",
    "mae = mean_absolute_error(y_pred, y_test)\n",
    "print(\"Mean Absolute Error:\", mae)\n"
   ]
  }
 ],
 "metadata": {
  "colab": {
   "authorship_tag": "ABX9TyOZopkfqfo9uCXkiyiKIrpx",
   "provenance": []
  },
  "kernelspec": {
   "display_name": "Python 3",
   "name": "python3"
  },
  "language_info": {
   "name": "python"
  }
 },
 "nbformat": 4,
 "nbformat_minor": 0
}
