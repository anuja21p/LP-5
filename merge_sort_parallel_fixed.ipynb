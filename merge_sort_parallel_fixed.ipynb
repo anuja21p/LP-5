{
 "cells": [
  {
   "cell_type": "code",
   "execution_count": null,
   "id": "72516a57",
   "metadata": {},
   "outputs": [],
   "source": [
    "import numpy as np\n",
    "import time\n",
    "from concurrent.futures import ThreadPoolExecutor\n"
   ]
  },
  {
   "cell_type": "code",
   "execution_count": null,
   "id": "5899d129",
   "metadata": {},
   "outputs": [],
   "source": [
    "def merge(arr, low, mid, high):\n",
    "    left = arr[low:mid+1]\n",
    "    right = arr[mid+1:high+1]\n",
    "    \n",
    "    i = j = 0\n",
    "    k = low\n",
    "\n",
    "    while i < len(left) and j < len(right):\n",
    "        if left[i] <= right[j]:\n",
    "            arr[k] = left[i]\n",
    "            i += 1\n",
    "        else:\n",
    "            arr[k] = right[j]\n",
    "            j += 1\n",
    "        k += 1\n",
    "\n",
    "    while i < len(left):\n",
    "        arr[k] = left[i]\n",
    "        i += 1\n",
    "        k += 1\n",
    "\n",
    "    while j < len(right):\n",
    "        arr[k] = right[j]\n",
    "        j += 1\n",
    "        k += 1\n"
   ]
  },
  {
   "cell_type": "code",
   "execution_count": null,
   "id": "15bd2e96",
   "metadata": {},
   "outputs": [],
   "source": [
    "def merge_sort(arr, low, high):\n",
    "    if low < high:\n",
    "        mid = (low + high) // 2\n",
    "        merge_sort(arr, low, mid)\n",
    "        merge_sort(arr, mid + 1, high)\n",
    "        merge(arr, low, mid, high)\n"
   ]
  },
  {
   "cell_type": "code",
   "execution_count": null,
   "id": "05ae1209",
   "metadata": {},
   "outputs": [],
   "source": [
    "def parallel_merge_sort(arr, low, high, depth=0):\n",
    "    if low < high:\n",
    "        mid = (low + high) // 2\n",
    "\n",
    "        if depth < 3:\n",
    "            with ThreadPoolExecutor(max_workers=2) as executor:\n",
    "                future1 = executor.submit(parallel_merge_sort, arr, low, mid, depth + 1)\n",
    "                future2 = executor.submit(parallel_merge_sort, arr, mid + 1, high, depth + 1)\n",
    "                future1.result()\n",
    "                future2.result()\n",
    "        else:\n",
    "            merge_sort(arr, low, mid)\n",
    "            merge_sort(arr, mid + 1, high)\n",
    "\n",
    "        merge(arr, low, mid, high)\n"
   ]
  },
  {
   "cell_type": "code",
   "execution_count": null,
   "id": "529412af",
   "metadata": {},
   "outputs": [],
   "source": [
    "n = 10\n",
    "arr = list(range(n, 0, -1))\n",
    "\n",
    "# Sequential Merge Sort\n",
    "arr_seq = arr.copy()\n",
    "start_time = time.time()\n",
    "merge_sort(arr_seq, 0, len(arr_seq) - 1)\n",
    "end_time = time.time()\n",
    "print(f\"Sorted array by sequential algorithm: {arr_seq}\")\n",
    "print(f\"Time taken by sequential algorithm: {end_time - start_time:.6f} seconds\\n\")\n",
    "\n",
    "# Parallel Merge Sort\n",
    "arr_par = arr.copy()\n",
    "start_time = time.time()\n",
    "parallel_merge_sort(arr_par, 0, len(arr_par) - 1)\n",
    "end_time = time.time()\n",
    "print(f\"Sorted array by parallel algorithm: {arr_par}\")\n",
    "print(f\"Time taken by parallel algorithm: {end_time - start_time:.6f} seconds\")\n"
   ]
  }
 ],
 "metadata": {
  "language_info": {
   "name": "python"
  }
 },
 "nbformat": 4,
 "nbformat_minor": 5
}
